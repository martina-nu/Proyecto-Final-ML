{
 "cells": [
  {
   "cell_type": "markdown",
   "metadata": {},
   "source": [
    "Topic modeling is the process of using unsupervised learning techniques to extract the main topics that occur in a collection of documents.\n",
    "\n",
    "Latent Dirichlet Allocation (LDA) is an easy to use and efficient model for topic modeling. Each document is represented by the distribution of topics and each topic is represented by the distribution of words.\n",
    "\n",
    "On the left side, the area of each circle represents the importance of the topic relative to the corpus. As there are four topics, we have four circles.\n",
    "The distance between the center of the circles indicates the similarity between the topics. Here you can see that the topic 3 and topic 4 overlap, this indicates that the topics are more similar.\n",
    "On the right side, the histogram of each topic shows the top 30 relevant words.\n",
    "\n",
    "Source: https://neptune.ai/blog/exploratory-data-analysis-natural-language-processing-tools"
   ]
  },
  {
   "cell_type": "markdown",
   "metadata": {},
   "source": [
    "Topic modeling is the process of using unsupervised learning techniques to extract the main topics that occur in a collection of documents.\n",
    "\n",
    "Latent Dirichlet Allocation (LDA) is an easy to use and efficient model for topic modeling. Each document is represented by the distribution of topics and each topic is represented by the distribution of words.\n",
    "On the left side, the area of each circle represents the importance of the topic relative to the corpus. As there are four topics, we have four circles.\n",
    "The distance between the center of the circles indicates the similarity between the topics. Here you can see that the topic 3 and topic 4 overlap, this indicates that the topics are more similar.\n",
    "On the right side, the histogram of each topic shows the top 30 relevant words.\n",
    "\n",
    "Source: https://neptune.ai/blog/exploratory-data-analysis-natural-language-processing-tools"
   ]
  },
  {
   "cell_type": "markdown",
   "metadata": {},
   "source": [
    "Topic modeling is the process of using unsupervised learning techniques to extract the main topics that occur in a collection of documents.\n",
    "\n",
    "Latent Dirichlet Allocation (LDA) is an easy to use and efficient model for topic modeling. Each document is represented by the distribution of topics and each topic is represented by the distribution of words.\n",
    "\n",
    "Source: https://neptune.ai/blog/exploratory-data-analysis-natural-language-processing-tools"
   ]
  },
  {
   "cell_type": "code",
   "execution_count": 1,
   "metadata": {},
   "outputs": [
    {
     "name": "stdout",
     "output_type": "stream",
     "text": [
      "Collecting pyldavis\n",
      "  Downloading pyLDAvis-3.3.1.tar.gz (1.7 MB)\n",
      "\u001b[2K     \u001b[90m━━━━━━━━━━━━━━━━━━━━━━━━━━━━━━━━━━━━━━━━\u001b[0m \u001b[32m1.7/1.7 MB\u001b[0m \u001b[31m24.0 MB/s\u001b[0m eta \u001b[36m0:00:00\u001b[0ma \u001b[36m0:00:01\u001b[0m\n",
      "\u001b[?25h  Installing build dependencies ... \u001b[?25ldone\n",
      "\u001b[?25h  Getting requirements to build wheel ... \u001b[?25ldone\n",
      "\u001b[?25h  Installing backend dependencies ... \u001b[?25ldone\n",
      "\u001b[?25h  Preparing metadata (pyproject.toml) ... \u001b[?25ldone\n",
      "\u001b[?25hRequirement already satisfied: pandas>=1.2.0 in /home/gitpod/.pyenv/versions/3.8.13/lib/python3.8/site-packages (from pyldavis) (1.4.3)\n",
      "Requirement already satisfied: numpy>=1.20.0 in /home/gitpod/.pyenv/versions/3.8.13/lib/python3.8/site-packages (from pyldavis) (1.23.2)\n",
      "Requirement already satisfied: future in /home/gitpod/.pyenv/versions/3.8.13/lib/python3.8/site-packages (from pyldavis) (0.18.2)\n",
      "Requirement already satisfied: setuptools in /home/gitpod/.pyenv/versions/3.8.13/lib/python3.8/site-packages (from pyldavis) (63.2.0)\n",
      "Requirement already satisfied: gensim in /home/gitpod/.pyenv/versions/3.8.13/lib/python3.8/site-packages (from pyldavis) (4.2.0)\n",
      "Requirement already satisfied: scikit-learn in /home/gitpod/.pyenv/versions/3.8.13/lib/python3.8/site-packages (from pyldavis) (1.1.2)\n",
      "Collecting numexpr\n",
      "  Downloading numexpr-2.8.3-cp38-cp38-manylinux_2_17_x86_64.manylinux2014_x86_64.whl (381 kB)\n",
      "\u001b[2K     \u001b[90m━━━━━━━━━━━━━━━━━━━━━━━━━━━━━━━━━━━━━━\u001b[0m \u001b[32m381.5/381.5 kB\u001b[0m \u001b[31m13.0 MB/s\u001b[0m eta \u001b[36m0:00:00\u001b[0m\n",
      "\u001b[?25hCollecting sklearn\n",
      "  Downloading sklearn-0.0.tar.gz (1.1 kB)\n",
      "  Preparing metadata (setup.py) ... \u001b[?25ldone\n",
      "\u001b[?25hCollecting funcy\n",
      "  Downloading funcy-1.17-py2.py3-none-any.whl (33 kB)\n",
      "Requirement already satisfied: scipy in /home/gitpod/.pyenv/versions/3.8.13/lib/python3.8/site-packages (from pyldavis) (1.9.1)\n",
      "Requirement already satisfied: joblib in /home/gitpod/.pyenv/versions/3.8.13/lib/python3.8/site-packages (from pyldavis) (1.1.0)\n",
      "Requirement already satisfied: jinja2 in /home/gitpod/.pyenv/versions/3.8.13/lib/python3.8/site-packages (from pyldavis) (3.1.2)\n",
      "Requirement already satisfied: python-dateutil>=2.8.1 in /home/gitpod/.pyenv/versions/3.8.13/lib/python3.8/site-packages (from pandas>=1.2.0->pyldavis) (2.8.2)\n",
      "Requirement already satisfied: pytz>=2020.1 in /home/gitpod/.pyenv/versions/3.8.13/lib/python3.8/site-packages (from pandas>=1.2.0->pyldavis) (2022.2.1)\n",
      "Requirement already satisfied: smart-open>=1.8.1 in /home/gitpod/.pyenv/versions/3.8.13/lib/python3.8/site-packages (from gensim->pyldavis) (6.1.0)\n",
      "Requirement already satisfied: MarkupSafe>=2.0 in /home/gitpod/.pyenv/versions/3.8.13/lib/python3.8/site-packages (from jinja2->pyldavis) (2.1.1)\n",
      "Requirement already satisfied: packaging in /home/gitpod/.pyenv/versions/3.8.13/lib/python3.8/site-packages (from numexpr->pyldavis) (21.3)\n",
      "Requirement already satisfied: threadpoolctl>=2.0.0 in /home/gitpod/.pyenv/versions/3.8.13/lib/python3.8/site-packages (from scikit-learn->pyldavis) (3.1.0)\n",
      "Requirement already satisfied: six>=1.5 in /home/gitpod/.pyenv/versions/3.8.13/lib/python3.8/site-packages (from python-dateutil>=2.8.1->pandas>=1.2.0->pyldavis) (1.16.0)\n",
      "Requirement already satisfied: pyparsing!=3.0.5,>=2.0.2 in /home/gitpod/.pyenv/versions/3.8.13/lib/python3.8/site-packages (from packaging->numexpr->pyldavis) (3.0.9)\n",
      "Building wheels for collected packages: pyldavis, sklearn\n",
      "  Building wheel for pyldavis (pyproject.toml) ... \u001b[?25ldone\n",
      "\u001b[?25h  Created wheel for pyldavis: filename=pyLDAvis-3.3.1-py2.py3-none-any.whl size=136882 sha256=46bce3a94e9c3ebf70f11dcbd45843eb43a5526e997ac43f0e593c15b89c26b6\n",
      "  Stored in directory: /home/gitpod/.cache/pip/wheels/90/61/ec/9dbe9efc3acf9c4e37ba70fbbcc3f3a0ebd121060aa593181a\n",
      "  Building wheel for sklearn (setup.py) ... \u001b[?25ldone\n",
      "\u001b[?25h  Created wheel for sklearn: filename=sklearn-0.0-py2.py3-none-any.whl size=1304 sha256=a77449018b062c645180b1d2dc4163fb98b092506fc280b3990d20fd190a6168\n",
      "  Stored in directory: /home/gitpod/.cache/pip/wheels/22/0b/40/fd3f795caaa1fb4c6cb738bc1f56100be1e57da95849bfc897\n",
      "Successfully built pyldavis sklearn\n",
      "Installing collected packages: funcy, numexpr, sklearn, pyldavis\n",
      "Successfully installed funcy-1.17 numexpr-2.8.3 pyldavis-3.3.1 sklearn-0.0\n",
      "\n",
      "\u001b[1m[\u001b[0m\u001b[34;49mnotice\u001b[0m\u001b[1;39;49m]\u001b[0m\u001b[39;49m A new release of pip available: \u001b[0m\u001b[31;49m22.2\u001b[0m\u001b[39;49m -> \u001b[0m\u001b[32;49m22.2.2\u001b[0m\n",
      "\u001b[1m[\u001b[0m\u001b[34;49mnotice\u001b[0m\u001b[1;39;49m]\u001b[0m\u001b[39;49m To update, run: \u001b[0m\u001b[32;49mpip install --upgrade pip\u001b[0m\n"
     ]
    }
   ],
   "source": [
    "!pip install pyldavis --quiet"
   ]
  },
  {
   "cell_type": "code",
   "execution_count": 2,
   "metadata": {},
   "outputs": [],
   "source": [
    "!pip install gensim --quiet"
   ]
  },
  {
   "cell_type": "code",
   "execution_count": 22,
   "metadata": {},
   "outputs": [
    {
     "name": "stderr",
     "output_type": "stream",
     "text": [
      "[nltk_data] Downloading package punkt to /home/gitpod/nltk_data...\n",
      "[nltk_data]   Package punkt is already up-to-date!\n",
      "[nltk_data] Downloading package wordnet to /home/gitpod/nltk_data...\n",
      "[nltk_data]   Package wordnet is already up-to-date!\n"
     ]
    }
   ],
   "source": [
    "import nltk\n",
    "nltk.download('punkt')\n",
    "nltk.download('wordnet')\n",
    "import pyLDAvis\n",
    "import gensim\n",
    "import gensim.corpora as corpora\n",
    "from gensim.corpora import Dictionary\n",
    "from gensim.models.coherencemodel import CoherenceModel\n",
    "from gensim.models.ldamodel import LdaModel\n",
    "\n",
    "import gensim\n",
    "import gensim.corpora as corpora\n",
    "from gensim.corpora import Dictionary\n",
    "from gensim.models.coherencemodel import CoherenceModel\n",
    "from gensim.models.ldamodel import LdaModel\n",
    "\n",
    "#from pprint import pprint\n",
    "\n",
    "#import spacy\n",
    "\n",
    "#import pickle\n",
    "#import re\n",
    "import pyLDAvis\n",
    "import pyLDAvis.gensim_models as gensimvis\n",
    "\n",
    "import matplotlib.pyplot as plt\n",
    "import pandas as pd\n",
    "\n",
    "from nltk.stem import *\n",
    "from nltk.tokenize import word_tokenize"
   ]
  },
  {
   "cell_type": "code",
   "execution_count": 7,
   "metadata": {},
   "outputs": [],
   "source": [
    "df_interim_p = pd.read_csv('../data/interim/Putin_tweets.csv')"
   ]
  },
  {
   "cell_type": "code",
   "execution_count": 8,
   "metadata": {},
   "outputs": [
    {
     "data": {
      "text/html": [
       "<div>\n",
       "<style scoped>\n",
       "    .dataframe tbody tr th:only-of-type {\n",
       "        vertical-align: middle;\n",
       "    }\n",
       "\n",
       "    .dataframe tbody tr th {\n",
       "        vertical-align: top;\n",
       "    }\n",
       "\n",
       "    .dataframe thead th {\n",
       "        text-align: right;\n",
       "    }\n",
       "</style>\n",
       "<table border=\"1\" class=\"dataframe\">\n",
       "  <thead>\n",
       "    <tr style=\"text-align: right;\">\n",
       "      <th></th>\n",
       "      <th>Timestamp</th>\n",
       "      <th>UserName</th>\n",
       "      <th>Comments</th>\n",
       "      <th>Likes</th>\n",
       "      <th>Retweets</th>\n",
       "      <th>Is_response</th>\n",
       "      <th>Quote_another</th>\n",
       "      <th>Tweet</th>\n",
       "      <th>Clean_Tweet</th>\n",
       "      <th>Top_tweet</th>\n",
       "    </tr>\n",
       "  </thead>\n",
       "  <tbody>\n",
       "    <tr>\n",
       "      <th>0</th>\n",
       "      <td>2022-01-01</td>\n",
       "      <td>@FreeSyrianMemes</td>\n",
       "      <td>0</td>\n",
       "      <td>3</td>\n",
       "      <td>35</td>\n",
       "      <td>0</td>\n",
       "      <td>0</td>\n",
       "      <td>Halt Russian aggression with 2-day shipping on...</td>\n",
       "      <td>halt russian aggression day ship atgms syrian ...</td>\n",
       "      <td>0</td>\n",
       "    </tr>\n",
       "    <tr>\n",
       "      <th>1</th>\n",
       "      <td>2022-01-01</td>\n",
       "      <td>@_ciciulena</td>\n",
       "      <td>1</td>\n",
       "      <td>2</td>\n",
       "      <td>38</td>\n",
       "      <td>0</td>\n",
       "      <td>0</td>\n",
       "      <td>PUTIN?????????? #CIAO2021\\n1\\n2\\n38</td>\n",
       "      <td>putin ciao</td>\n",
       "      <td>0</td>\n",
       "    </tr>\n",
       "    <tr>\n",
       "      <th>2</th>\n",
       "      <td>2022-01-01</td>\n",
       "      <td>@lonestarmoocher</td>\n",
       "      <td>10</td>\n",
       "      <td>10</td>\n",
       "      <td>56</td>\n",
       "      <td>0</td>\n",
       "      <td>0</td>\n",
       "      <td>Looks like Lumpy had a meeting with Putin.\\n10...</td>\n",
       "      <td>look like lumpy meet putin</td>\n",
       "      <td>0</td>\n",
       "    </tr>\n",
       "    <tr>\n",
       "      <th>3</th>\n",
       "      <td>2022-01-01</td>\n",
       "      <td>@TomLondon6</td>\n",
       "      <td>9</td>\n",
       "      <td>218</td>\n",
       "      <td>813</td>\n",
       "      <td>0</td>\n",
       "      <td>0</td>\n",
       "      <td>What kind of country honours war criminals, li...</td>\n",
       "      <td>kind country honour war criminals like blair i...</td>\n",
       "      <td>1</td>\n",
       "    </tr>\n",
       "    <tr>\n",
       "      <th>4</th>\n",
       "      <td>2022-01-01</td>\n",
       "      <td>@ukemonde</td>\n",
       "      <td>0</td>\n",
       "      <td>7</td>\n",
       "      <td>16</td>\n",
       "      <td>0</td>\n",
       "      <td>1</td>\n",
       "      <td>Time for a putin tribunal!!\\nQuote Tweet\\nMich...</td>\n",
       "      <td>time putin tribunal</td>\n",
       "      <td>0</td>\n",
       "    </tr>\n",
       "  </tbody>\n",
       "</table>\n",
       "</div>"
      ],
      "text/plain": [
       "    Timestamp          UserName  Comments  Likes  Retweets  Is_response  \\\n",
       "0  2022-01-01  @FreeSyrianMemes         0      3        35            0   \n",
       "1  2022-01-01       @_ciciulena         1      2        38            0   \n",
       "2  2022-01-01  @lonestarmoocher        10     10        56            0   \n",
       "3  2022-01-01       @TomLondon6         9    218       813            0   \n",
       "4  2022-01-01         @ukemonde         0      7        16            0   \n",
       "\n",
       "   Quote_another                                              Tweet  \\\n",
       "0              0  Halt Russian aggression with 2-day shipping on...   \n",
       "1              0                PUTIN?????????? #CIAO2021\\n1\\n2\\n38   \n",
       "2              0  Looks like Lumpy had a meeting with Putin.\\n10...   \n",
       "3              0  What kind of country honours war criminals, li...   \n",
       "4              1  Time for a putin tribunal!!\\nQuote Tweet\\nMich...   \n",
       "\n",
       "                                         Clean_Tweet  Top_tweet  \n",
       "0  halt russian aggression day ship atgms syrian ...          0  \n",
       "1                                         putin ciao          0  \n",
       "2                         look like lumpy meet putin          0  \n",
       "3  kind country honour war criminals like blair i...          1  \n",
       "4                                time putin tribunal          0  "
      ]
     },
     "execution_count": 8,
     "metadata": {},
     "output_type": "execute_result"
    }
   ],
   "source": [
    "df_interim_p.head()"
   ]
  },
  {
   "cell_type": "code",
   "execution_count": 16,
   "metadata": {},
   "outputs": [],
   "source": [
    "def preprocess_news(df):\n",
    "    corpus=[]\n",
    "    stem=PorterStemmer()\n",
    "    lem=WordNetLemmatizer()\n",
    "    for news in df['Clean_Tweet']:\n",
    "        words=[w for w in word_tokenize(news)]\n",
    "\n",
    "        words=[lem.lemmatize(w) for w in words if len(w)>2]\n",
    "\n",
    "        corpus.append(words)\n",
    "    return corpus"
   ]
  },
  {
   "cell_type": "code",
   "execution_count": 17,
   "metadata": {},
   "outputs": [],
   "source": [
    "corpus=preprocess_news(df_interim_p)"
   ]
  },
  {
   "cell_type": "code",
   "execution_count": 18,
   "metadata": {},
   "outputs": [],
   "source": [
    "dic=gensim.corpora.Dictionary(corpus)\n",
    "bow_corpus = [dic.doc2bow(doc) for doc in corpus]"
   ]
  },
  {
   "cell_type": "code",
   "execution_count": 28,
   "metadata": {},
   "outputs": [],
   "source": [
    "lda_model = gensim.models.LdaMulticore(bow_corpus,\n",
    "num_topics = 3,\n",
    "id2word = dic,\n",
    "passes = 10,\n",
    "workers = 2)"
   ]
  },
  {
   "cell_type": "code",
   "execution_count": 29,
   "metadata": {},
   "outputs": [
    {
     "data": {
      "text/plain": [
       "[(0,\n",
       "  '0.058*\"putin\" + 0.029*\"ukraine\" + 0.019*\"russia\" + 0.016*\"russian\" + 0.013*\"war\" + 0.009*\"vladimir\" + 0.009*\"president\" + 0.009*\"say\" + 0.007*\"biden\" + 0.005*\"nato\"'),\n",
       " (1,\n",
       "  '0.036*\"putin\" + 0.010*\"war\" + 0.009*\"russian\" + 0.008*\"russia\" + 0.006*\"ukrainian\" + 0.005*\"medium\" + 0.005*\"ukraine\" + 0.005*\"support\" + 0.004*\"change\" + 0.004*\"say\"'),\n",
       " (2,\n",
       "  '0.063*\"putin\" + 0.012*\"trump\" + 0.010*\"ukraine\" + 0.009*\"russia\" + 0.009*\"russian\" + 0.009*\"would\" + 0.007*\"get\" + 0.007*\"people\" + 0.006*\"like\" + 0.006*\"think\"')]"
      ]
     },
     "execution_count": 29,
     "metadata": {},
     "output_type": "execute_result"
    }
   ],
   "source": [
    "lda_model.show_topics()"
   ]
  },
  {
   "cell_type": "markdown",
   "metadata": {},
   "source": [
    "On the left side, the area of each circle represents the importance of the topic relative to the corpus. As there are four topics, we have four circles.\n",
    "The distance between the center of the circles indicates the similarity between the topics. Here you can see that the topic 3 and topic 4 overlap, this indicates that the topics are more similar.\n",
    "On the right side, the histogram of each topic shows the top 30 relevant words."
   ]
  },
  {
   "cell_type": "markdown",
   "metadata": {},
   "source": [
    "On the left side, the area of each circle represents the importance of the topic relative to the corpus. As there are four topics, we have four circles.\n",
    "The distance between the center of the circles indicates the similarity between the topics. Here you can see that the topic 3 and topic 4 overlap, this indicates that the topics are more similar.\n",
    "On the right side, the histogram of each topic shows the top 30 relevant words.\n",
    "\n",
    "Each bubble represents a topic. The larger the bubble, the higher percentage of the number of tweets in the corpus is about that topic.\n",
    "Blue bars represent the overall frequency of each word in the corpus. If no topic is selected, the blue bars of the most frequently used words will be displayed.\n",
    "Red bars give the estimated number of times a given term was generated by a given topic. As you can see from the image below, there are about 22,000 of the word ‘go’, and this term is used about 10,000 times within topic 1. The word with the longest red bar is the word that is used the most by the tweets belonging to that topic.\n",
    "\n",
    "The further the bubbles are away from each other, the more different they are.\n",
    "\n",
    "Source: https://neptune.ai/blog/pyldavis-topic-modelling-exploration-tool-that-every-nlp-data-scientist-should-know"
   ]
  },
  {
   "cell_type": "code",
   "execution_count": 30,
   "metadata": {},
   "outputs": [
    {
     "name": "stderr",
     "output_type": "stream",
     "text": [
      "/home/gitpod/.pyenv/versions/3.8.13/lib/python3.8/site-packages/pyLDAvis/_prepare.py:246: FutureWarning: In a future version of pandas all arguments of DataFrame.drop except for the argument 'labels' will be keyword-only.\n",
      "  default_term_info = default_term_info.sort_values(\n",
      "/home/gitpod/.pyenv/versions/3.8.13/lib/python3.8/site-packages/past/builtins/misc.py:45: DeprecationWarning: the imp module is deprecated in favour of importlib; see the module's documentation for alternative uses\n",
      "  from imp import reload\n",
      "/home/gitpod/.pyenv/versions/3.8.13/lib/python3.8/site-packages/past/builtins/misc.py:45: DeprecationWarning: the imp module is deprecated in favour of importlib; see the module's documentation for alternative uses\n",
      "  from imp import reload\n",
      "/home/gitpod/.pyenv/versions/3.8.13/lib/python3.8/site-packages/past/builtins/misc.py:45: DeprecationWarning: the imp module is deprecated in favour of importlib; see the module's documentation for alternative uses\n",
      "  from imp import reload\n",
      "/home/gitpod/.pyenv/versions/3.8.13/lib/python3.8/site-packages/past/builtins/misc.py:45: DeprecationWarning: the imp module is deprecated in favour of importlib; see the module's documentation for alternative uses\n",
      "  from imp import reload\n",
      "/home/gitpod/.pyenv/versions/3.8.13/lib/python3.8/site-packages/past/builtins/misc.py:45: DeprecationWarning: the imp module is deprecated in favour of importlib; see the module's documentation for alternative uses\n",
      "  from imp import reload\n",
      "/home/gitpod/.pyenv/versions/3.8.13/lib/python3.8/site-packages/past/builtins/misc.py:45: DeprecationWarning: the imp module is deprecated in favour of importlib; see the module's documentation for alternative uses\n",
      "  from imp import reload\n"
     ]
    },
    {
     "data": {
      "text/html": [
       "\n",
       "<link rel=\"stylesheet\" type=\"text/css\" href=\"https://cdn.jsdelivr.net/gh/bmabey/pyLDAvis@3.3.1/pyLDAvis/js/ldavis.v1.0.0.css\">\n",
       "\n",
       "\n",
       "<div id=\"ldavis_el23481405816020960641827624841\"></div>\n",
       "<script type=\"text/javascript\">\n",
       "\n",
       "var ldavis_el23481405816020960641827624841_data = {\"mdsDat\": {\"x\": [0.09224363885984709, 0.03438786581083643, -0.1266315046706835], \"y\": [0.06686243326996062, -0.09088673390660626, 0.024024300636645683], \"topics\": [1, 2, 3], \"cluster\": [1, 1, 1], \"Freq\": [45.88376024905294, 42.02764153829094, 12.088598212656114]}, \"tinfo\": {\"Term\": [\"trump\", \"putin\", \"war\", \"ukraine\", \"gas\", \"ukrainian\", \"medium\", \"price\", \"change\", \"russian\", \"support\", \"follow\", \"view\", \"sanction\", \"crime\", \"include\", \"can\", \"not\", \"russia\", \"oil\", \"child\", \"would\", \"kill\", \"people\", \"energy\", \"civilian\", \"biden\", \"president\", \"think\", \"know\", \"price\", \"gas\", \"energy\", \"supply\", \"fuel\", \"pipeline\", \"oil\", \"hike\", \"iran\", \"sweden\", \"volodymyr\", \"fossil\", \"nord\", \"shut\", \"escalation\", \"economic\", \"chemical\", \"amid\", \"mac\", \"scholz\", \"wag\", \"beijing\", \"early\", \"pen\", \"relation\", \"lavrov\", \"inflation\", \"export\", \"cooperation\", \"tension\", \"prepare\", \"french\", \"nuclear\", \"finland\", \"weapon\", \"germany\", \"german\", \"sanction\", \"increase\", \"impose\", \"cost\", \"troop\", \"ukraine\", \"europe\", \"west\", \"joe\", \"president\", \"warn\", \"biden\", \"china\", \"vladimir\", \"ally\", \"war\", \"russia\", \"nato\", \"invasion\", \"russian\", \"putin\", \"blame\", \"military\", \"invade\", \"say\", \"world\", \"ukrainian\", \"new\", \"stop\", \"country\", \"state\", \"use\", \"make\", \"like\", \"guess\", \"tucker\", \"carlson\", \"hillary\", \"wish\", \"tfg\", \"alaska\", \"clinton\", \"greatest\", \"griner\", \"asset\", \"brittney\", \"ever\", \"navalny\", \"murdoch\", \"vaccine\", \"horrible\", \"nra\", \"bannon\", \"often\", \"kompromat\", \"gqp\", \"constitution\", \"steve\", \"road\", \"rnc\", \"hudson\", \"interference\", \"abortion\", \"perspective\", \"trump\", \"woman\", \"something\", \"donald\", \"actual\", \"johnson\", \"fox\", \"fast\", \"appearance\", \"flynn\", \"rid\", \"truth\", \"compromise\", \"genius\", \"someone\", \"tory\", \"would\", \"life\", \"traitor\", \"imagine\", \"think\", \"puppet\", \"get\", \"know\", \"people\", \"guy\", \"right\", \"never\", \"others\", \"election\", \"gop\", \"putin\", \"like\", \"vote\", \"want\", \"republican\", \"democracy\", \"let\", \"lie\", \"take\", \"back\", \"make\", \"one\", \"love\", \"tell\", \"try\", \"see\", \"russian\", \"russia\", \"need\", \"country\", \"say\", \"ukraine\", \"call\", \"year\", \"time\", \"world\", \"war\", \"give\", \"vladimir\", \"sensitive\", \"setting\", \"content\", \"potentially\", \"orthodox\", \"famine\", \"church\", \"vinnytsia\", \"salman\", \"russiaisaterroriststate\", \"slan\", \"abe\", \"crown\", \"neetug\", \"mohammed\", \"overstock\", \"byrne\", \"butina\", \"orcs\", \"stoprussianow\", \"meadow\", \"mom\", \"esque\", \"kirill\", \"unavailable\", \"igor\", \"seversk\", \"patrick\", \"bleed\", \"oliver\", \"hospital\", \"putinwarcriminal\", \"casualty\", \"lover\", \"hawley\", \"nationalist\", \"film\", \"child\", \"student\", \"view\", \"medium\", \"civilian\", \"hero\", \"follow\", \"change\", \"include\", \"crime\", \"information\", \"can\", \"not\", \"trial\", \"innocent\", \"putin\", \"kill\", \"support\", \"video\", \"war\", \"ukrainian\", \"russian\", \"russia\", \"call\", \"say\", \"year\", \"new\", \"state\", \"ukraine\", \"people\", \"one\", \"trump\"], \"Freq\": [1167.0, 12060.0, 1905.0, 3764.0, 480.0, 698.0, 258.0, 398.0, 231.0, 2558.0, 445.0, 204.0, 185.0, 453.0, 245.0, 200.0, 204.0, 203.0, 2862.0, 320.0, 133.0, 1027.0, 291.0, 801.0, 257.0, 134.0, 932.0, 1080.0, 722.0, 698.0, 397.2156718014507, 478.56254437739454, 256.45332740349517, 166.95181658585096, 124.21229376381851, 84.96123203796166, 317.64191479036873, 85.00129163245876, 83.44884723745226, 58.476705962098094, 43.752252001549685, 45.62126627246245, 42.554776371441115, 51.30803702323685, 37.98250790011586, 153.3786171620134, 34.765344158915426, 57.645925366608836, 33.71032609886671, 48.43999861535929, 34.169485838322245, 30.74030348442519, 28.408028375885003, 27.804178965580107, 36.51423031192863, 28.025959148942544, 173.30086824792556, 61.20465963845999, 24.549669053793153, 40.8943720448062, 87.46770389500108, 59.0559938194532, 203.39722050622237, 88.4903944927958, 260.85411817974193, 222.94294743272712, 99.43385830451973, 421.5257432721367, 75.30318243499147, 64.39475669467701, 95.95104923657276, 218.07751940361197, 2783.497531365321, 321.58822395012606, 429.50433547124106, 133.50212273490848, 847.6021123636813, 226.94512385158922, 725.2597955170177, 202.74415228834465, 878.969292769835, 187.97507601529188, 1292.7831475175292, 1835.3392165099788, 502.0784045507719, 416.74106493715675, 1514.6394418577067, 5569.624089024471, 232.29385658935578, 339.9259255444302, 345.3188386781514, 836.4313627076311, 415.9470788202556, 405.023847468147, 285.13962246796797, 258.1000041695369, 307.5455458946586, 254.69457834863277, 248.62240851563976, 257.09338019381846, 247.66588718059361, 69.43445734006698, 53.322784356993765, 47.00590004531302, 41.11750744415379, 52.65422096018889, 45.45250350931535, 37.116906518201795, 26.44974257079924, 35.05382043578107, 25.146256132903066, 93.88132253682832, 23.52054108236173, 134.1006572341512, 49.15001895882492, 24.413147495042907, 22.11421281820415, 21.710252682223917, 35.73722910911865, 20.250865058732693, 42.57265392837855, 19.030943244486764, 19.429639984836307, 17.626449369744435, 18.95889157365986, 24.532283546328053, 17.602936184267136, 16.7600323143087, 19.34177879061611, 16.607433803121154, 21.34533680949678, 1082.120851949695, 124.55655212090883, 152.6179920679687, 90.37755882949189, 25.21595519608216, 197.2647564626606, 75.21662809455245, 35.751267409000654, 24.787143788740554, 88.17728156005164, 57.46915929830453, 94.45595178893144, 38.32299113217835, 44.905136145725045, 81.3263282412161, 54.532455247395646, 781.7817361966208, 87.2035675484746, 66.82632943060206, 71.78472398213086, 556.4147835987397, 93.85434425033331, 619.5618770189807, 515.1508756365878, 579.1141653513092, 140.78912722237814, 354.2154964052496, 218.37611129465665, 300.4786273202395, 151.0383391415214, 171.23789801703057, 5567.526969498903, 557.560907011549, 186.8520041508424, 466.59895270774035, 215.69591753426394, 199.31380682339952, 215.96842297858507, 154.07710898044292, 422.9218493939709, 299.9179409746124, 408.40212735211765, 410.68979529424854, 133.29628972201397, 258.23151756991444, 240.45160985922843, 266.03509006660164, 808.4488236192756, 821.3262940347485, 269.6815932477062, 329.5145031749218, 532.5285634964029, 862.4660358770992, 259.3091639864214, 253.5079661147405, 255.65069795656527, 274.3603665224668, 345.34964356502087, 231.68636870212094, 255.8866135841875, 66.79087283250503, 62.01967667964985, 71.1343794816797, 69.0762598250051, 30.64873078534481, 21.508480578989534, 37.72636588175928, 16.731041812212393, 15.375350447597851, 18.004268083770448, 14.67932346741405, 13.96534137101756, 13.464305232439779, 12.604641380312628, 11.93636207001691, 12.566989919865298, 11.245144231111786, 12.554212509806458, 14.506222561392295, 13.800138283749527, 10.520323954331662, 12.79953878293621, 9.87357046422039, 10.594576799042729, 10.179810054949284, 9.865950737676304, 9.834006470949975, 9.180635869407766, 9.830385339590874, 10.168994121942424, 25.530665399142983, 24.59688218656539, 12.96944348249519, 14.924984934353821, 11.737795333384556, 28.09655918324009, 23.13705678391936, 88.63529325021283, 16.38107574401922, 101.36060291897319, 129.72240126071156, 76.13357268431844, 37.63589024990676, 103.56039980355966, 111.38744223598239, 97.0938942144122, 97.7449473808741, 33.96101516116003, 81.59322725977991, 80.83851911546633, 26.941685989787132, 33.57021180816591, 923.4887758801443, 90.28010410755171, 116.7984195510688, 52.07990469637184, 267.28902586134694, 143.32119633520773, 235.51559525808452, 205.71656891586568, 74.39884089638785, 104.06867227222183, 68.03985242969955, 63.211637733338605, 65.43316585555503, 118.41404185008406, 74.18184888231372, 67.61384779401982, 56.39891550056312], \"Total\": [1167.0, 12060.0, 1905.0, 3764.0, 480.0, 698.0, 258.0, 398.0, 231.0, 2558.0, 445.0, 204.0, 185.0, 453.0, 245.0, 200.0, 204.0, 203.0, 2862.0, 320.0, 133.0, 1027.0, 291.0, 801.0, 257.0, 134.0, 932.0, 1080.0, 722.0, 698.0, 398.5826644518705, 480.4457092771418, 257.6861636064996, 167.8459727265451, 125.00796162012921, 85.55768153945752, 320.6108869425123, 85.82622484517135, 84.4422335121305, 59.17589847102902, 44.356350184084235, 46.2589354140232, 43.17714055895236, 52.09838409926175, 38.61011839458875, 156.0010592742659, 35.37450255739788, 58.658753343295785, 34.3243301670678, 49.36518165447477, 34.823490144028916, 31.394251562394132, 29.027068953387733, 28.44198228663414, 37.37366157870039, 28.69149747361002, 177.64069174790927, 62.74006100295334, 25.170645084703967, 41.93103648344841, 89.96883401989444, 60.63212995281392, 211.58125879267885, 91.35717921450987, 273.09980535145746, 232.84742062492614, 103.3943716330546, 453.77708430145213, 78.08495458661437, 66.71355688012108, 101.92708768094246, 243.8132269531947, 3764.3776090925044, 374.18179807158043, 512.5802672438915, 145.92713400892652, 1080.8327866320617, 260.60927701388243, 932.9749313577477, 232.13946222648383, 1178.8528970882523, 217.52571957574585, 1905.421816943897, 2862.3820794605926, 686.0353810049863, 556.2620871026987, 2558.6038607350665, 12060.639834403519, 281.53135383164806, 454.1199956393113, 464.01842692420564, 1473.0285984762559, 723.1717834817457, 698.360074674983, 424.4240982568534, 419.93341218363247, 655.7566421700399, 483.39257884588227, 441.3959845787246, 688.5071217543526, 858.9553896883622, 70.12993097013872, 53.959367168416584, 47.63313537513158, 41.72448464312388, 53.51002217038502, 46.24321556723603, 37.92191983391477, 27.07843528543213, 35.894557951263465, 25.76083636964566, 96.24534674155532, 24.11930421436247, 137.64831113056897, 50.47520030100376, 25.0749525707689, 22.718935477991536, 22.34736425369622, 36.80472843745529, 20.860881303909178, 43.87221611388107, 19.640131878599927, 20.079716211715223, 18.219385878320693, 19.615244789003327, 25.383960115817565, 18.214793030485257, 17.343213889088762, 20.018655040439132, 17.19312658936955, 22.125401799294668, 1167.197615434694, 132.94659472263265, 163.81489847381317, 96.22775453641083, 26.205483158770008, 216.7249260859657, 80.24425834950128, 37.568984355891, 25.788364029498275, 95.97607716003364, 61.5780425237436, 103.46485231863997, 40.457082405606386, 47.86125764661284, 89.88377221986165, 58.81895818299923, 1027.0208293477604, 97.72841597892425, 73.44584936985945, 79.42687323243334, 722.2539244679901, 106.2058076735746, 837.7117028091019, 698.0081647519448, 801.6330559927419, 167.31738096249086, 469.4916842275343, 273.57731676093766, 392.43911783824814, 182.6607113124184, 213.53157674256772, 12060.639834403519, 858.9553896883622, 240.5201904626869, 720.2724273700416, 287.9410482993117, 262.7877525618471, 289.570609341885, 193.3896747022726, 689.3796048503542, 457.3095680365521, 688.5071217543526, 702.913060644858, 163.3454204031492, 420.0733271228712, 383.77403626934625, 446.3978699270646, 2558.6038607350665, 2862.3820794605926, 470.4635589568773, 655.7566421700399, 1473.0285984762559, 3764.3776090925044, 531.6188173501098, 512.6698920859504, 540.1539880874365, 723.1717834817457, 1905.421816943897, 438.0908217363913, 1178.8528970882523, 67.48073549728156, 62.66715777300918, 72.00363910939606, 69.93204265097415, 31.456612582379744, 22.28386977239105, 39.11211056885409, 17.373717914274007, 16.014984159873993, 18.760378440904233, 15.321114762802829, 14.629513107696202, 14.112429475203053, 13.254285601983314, 12.575432195973452, 13.25953481999336, 11.881945163287579, 13.276814212607434, 15.349252223610012, 14.675415507890397, 11.20511087164703, 13.638706252558856, 10.523246569976678, 11.295666358007635, 10.857159245823123, 10.539364223314596, 10.507569295919104, 9.829596040243787, 10.52637428817374, 10.907923009078559, 27.42166493544282, 27.170092820162964, 14.198498860585147, 16.69954027478431, 12.808505061692877, 34.228535324090224, 27.870624207384843, 133.3923577961324, 19.120372848661823, 185.05982568199693, 258.65003676657875, 134.99208392603725, 55.485889231298884, 204.6017038615588, 231.79158921748837, 200.96904952268045, 245.6796318874294, 55.11709070727836, 204.02309801868375, 203.34082668395286, 40.19624881803132, 56.892575570285885, 12060.639834403519, 291.8867817399918, 445.9858572572988, 120.30672022644322, 1905.421816943897, 698.360074674983, 2558.6038607350665, 2862.3820794605926, 531.6188173501098, 1473.0285984762559, 512.6698920859504, 424.4240982568534, 483.39257884588227, 3764.3776090925044, 801.6330559927419, 702.913060644858, 1167.197615434694], \"Category\": [\"Default\", \"Default\", \"Default\", \"Default\", \"Default\", \"Default\", \"Default\", \"Default\", \"Default\", \"Default\", \"Default\", \"Default\", \"Default\", \"Default\", \"Default\", \"Default\", \"Default\", \"Default\", \"Default\", \"Default\", \"Default\", \"Default\", \"Default\", \"Default\", \"Default\", \"Default\", \"Default\", \"Default\", \"Default\", \"Default\", \"Topic1\", \"Topic1\", \"Topic1\", \"Topic1\", \"Topic1\", \"Topic1\", \"Topic1\", \"Topic1\", \"Topic1\", \"Topic1\", \"Topic1\", \"Topic1\", \"Topic1\", \"Topic1\", \"Topic1\", \"Topic1\", \"Topic1\", \"Topic1\", \"Topic1\", \"Topic1\", \"Topic1\", \"Topic1\", \"Topic1\", \"Topic1\", \"Topic1\", \"Topic1\", \"Topic1\", \"Topic1\", \"Topic1\", \"Topic1\", \"Topic1\", \"Topic1\", \"Topic1\", \"Topic1\", \"Topic1\", \"Topic1\", \"Topic1\", \"Topic1\", \"Topic1\", \"Topic1\", \"Topic1\", \"Topic1\", \"Topic1\", \"Topic1\", \"Topic1\", \"Topic1\", \"Topic1\", \"Topic1\", \"Topic1\", \"Topic1\", \"Topic1\", \"Topic1\", \"Topic1\", \"Topic1\", \"Topic1\", \"Topic1\", \"Topic1\", \"Topic1\", \"Topic1\", \"Topic1\", \"Topic1\", \"Topic1\", \"Topic1\", \"Topic1\", \"Topic1\", \"Topic1\", \"Topic1\", \"Topic1\", \"Topic1\", \"Topic1\", \"Topic1\", \"Topic2\", \"Topic2\", \"Topic2\", \"Topic2\", \"Topic2\", \"Topic2\", \"Topic2\", \"Topic2\", \"Topic2\", \"Topic2\", \"Topic2\", \"Topic2\", \"Topic2\", \"Topic2\", \"Topic2\", \"Topic2\", \"Topic2\", \"Topic2\", \"Topic2\", \"Topic2\", \"Topic2\", \"Topic2\", \"Topic2\", \"Topic2\", \"Topic2\", \"Topic2\", \"Topic2\", \"Topic2\", \"Topic2\", \"Topic2\", \"Topic2\", \"Topic2\", \"Topic2\", \"Topic2\", \"Topic2\", \"Topic2\", \"Topic2\", \"Topic2\", \"Topic2\", \"Topic2\", \"Topic2\", \"Topic2\", \"Topic2\", \"Topic2\", \"Topic2\", \"Topic2\", \"Topic2\", \"Topic2\", \"Topic2\", \"Topic2\", \"Topic2\", \"Topic2\", \"Topic2\", \"Topic2\", \"Topic2\", \"Topic2\", \"Topic2\", \"Topic2\", \"Topic2\", \"Topic2\", \"Topic2\", \"Topic2\", \"Topic2\", \"Topic2\", \"Topic2\", \"Topic2\", \"Topic2\", \"Topic2\", \"Topic2\", \"Topic2\", \"Topic2\", \"Topic2\", \"Topic2\", \"Topic2\", \"Topic2\", \"Topic2\", \"Topic2\", \"Topic2\", \"Topic2\", \"Topic2\", \"Topic2\", \"Topic2\", \"Topic2\", \"Topic2\", \"Topic2\", \"Topic2\", \"Topic2\", \"Topic2\", \"Topic2\", \"Topic2\", \"Topic3\", \"Topic3\", \"Topic3\", \"Topic3\", \"Topic3\", \"Topic3\", \"Topic3\", \"Topic3\", \"Topic3\", \"Topic3\", \"Topic3\", \"Topic3\", \"Topic3\", \"Topic3\", \"Topic3\", \"Topic3\", \"Topic3\", \"Topic3\", \"Topic3\", \"Topic3\", \"Topic3\", \"Topic3\", \"Topic3\", \"Topic3\", \"Topic3\", \"Topic3\", \"Topic3\", \"Topic3\", \"Topic3\", \"Topic3\", \"Topic3\", \"Topic3\", \"Topic3\", \"Topic3\", \"Topic3\", \"Topic3\", \"Topic3\", \"Topic3\", \"Topic3\", \"Topic3\", \"Topic3\", \"Topic3\", \"Topic3\", \"Topic3\", \"Topic3\", \"Topic3\", \"Topic3\", \"Topic3\", \"Topic3\", \"Topic3\", \"Topic3\", \"Topic3\", \"Topic3\", \"Topic3\", \"Topic3\", \"Topic3\", \"Topic3\", \"Topic3\", \"Topic3\", \"Topic3\", \"Topic3\", \"Topic3\", \"Topic3\", \"Topic3\", \"Topic3\", \"Topic3\", \"Topic3\", \"Topic3\", \"Topic3\"], \"logprob\": [30.0, 29.0, 28.0, 27.0, 26.0, 25.0, 24.0, 23.0, 22.0, 21.0, 20.0, 19.0, 18.0, 17.0, 16.0, 15.0, 14.0, 13.0, 12.0, 11.0, 10.0, 9.0, 8.0, 7.0, 6.0, 5.0, 4.0, 3.0, 2.0, 1.0, -5.495, -5.3087, -5.9326, -6.3618, -6.6575, -7.0373, -5.7186, -7.0368, -7.0553, -7.4109, -7.701, -7.6591, -7.7287, -7.5417, -7.8424, -6.4466, -7.9309, -7.4252, -7.9617, -7.5992, -7.9482, -8.0539, -8.1328, -8.1543, -7.8818, -8.1464, -6.3245, -7.3653, -8.2788, -7.7685, -7.0082, -7.401, -6.1644, -6.9966, -5.9156, -6.0726, -6.88, -5.4356, -7.158, -7.3145, -6.9157, -6.0947, -3.5481, -5.7062, -5.4169, -6.5854, -4.7371, -6.0548, -4.893, -6.1676, -4.7008, -6.2432, -4.315, -3.9645, -5.2608, -5.4471, -4.1566, -2.8544, -6.0315, -5.6508, -5.635, -4.7504, -5.449, -5.4756, -5.8265, -5.9262, -5.7509, -5.9395, -5.9636, -5.9301, -5.9674, -7.1513, -7.4154, -7.5415, -7.6753, -7.428, -7.5751, -7.7777, -8.1165, -7.8348, -8.167, -6.8497, -8.2339, -6.4931, -7.4969, -8.1966, -8.2955, -8.3139, -7.8155, -8.3835, -7.6405, -8.4457, -8.4249, -8.5223, -8.4495, -8.1917, -8.5237, -8.5727, -8.4295, -8.5819, -8.3309, -4.4051, -6.567, -6.3638, -6.8877, -8.1643, -6.1072, -7.0714, -7.8151, -8.1814, -6.9124, -7.3405, -6.8436, -7.7457, -7.5872, -6.9933, -7.3929, -4.7302, -6.9235, -7.1896, -7.1181, -5.0702, -6.85, -4.9627, -5.1473, -5.0302, -6.4445, -5.5218, -6.0055, -5.6864, -6.3742, -6.2487, -2.767, -5.0682, -6.1614, -5.2463, -6.0179, -6.0969, -6.0166, -6.3543, -5.3445, -5.6882, -5.3795, -5.3739, -6.4992, -5.8379, -5.9092, -5.8081, -4.6966, -4.6808, -5.7945, -5.5941, -5.1141, -4.6319, -5.8337, -5.8563, -5.8479, -5.7773, -5.5472, -5.9463, -5.847, -5.9441, -6.0182, -5.8811, -5.9105, -6.7231, -7.0772, -6.5153, -7.3284, -7.4129, -7.2551, -7.4592, -7.5091, -7.5456, -7.6116, -7.6661, -7.6146, -7.7257, -7.6156, -7.4711, -7.521, -7.7924, -7.5963, -7.8558, -7.7853, -7.8253, -7.8566, -7.8598, -7.9286, -7.8602, -7.8263, -6.9058, -6.943, -7.5831, -7.4426, -7.6829, -6.81, -7.0042, -5.6611, -7.3495, -5.527, -5.2803, -5.8132, -6.5177, -5.5055, -5.4327, -5.57, -5.5633, -6.6205, -5.7439, -5.7532, -6.852, -6.632, -3.3175, -5.6428, -5.3852, -6.1929, -4.5573, -5.1806, -4.6839, -4.8192, -5.8362, -5.5006, -5.9256, -5.9992, -5.9646, -5.3715, -5.8391, -5.9319, -6.1132], \"loglift\": [30.0, 29.0, 28.0, 27.0, 26.0, 25.0, 24.0, 23.0, 22.0, 21.0, 20.0, 19.0, 18.0, 17.0, 16.0, 15.0, 14.0, 13.0, 12.0, 11.0, 10.0, 9.0, 8.0, 7.0, 6.0, 5.0, 4.0, 3.0, 2.0, 1.0, 0.7756, 0.7751, 0.7743, 0.7737, 0.7727, 0.7721, 0.7698, 0.7694, 0.7672, 0.7672, 0.7653, 0.7652, 0.7645, 0.7638, 0.7627, 0.7621, 0.7617, 0.7616, 0.761, 0.7601, 0.7601, 0.758, 0.7575, 0.7564, 0.7558, 0.7556, 0.7543, 0.7543, 0.7541, 0.754, 0.7509, 0.7527, 0.7396, 0.7472, 0.7332, 0.7356, 0.74, 0.7053, 0.7428, 0.7437, 0.7186, 0.6675, 0.4772, 0.6276, 0.6022, 0.6901, 0.536, 0.6407, 0.5272, 0.6437, 0.4855, 0.6331, 0.3912, 0.3346, 0.4669, 0.4903, 0.2548, 0.0064, 0.5868, 0.4894, 0.4836, 0.2131, 0.226, 0.2343, 0.3813, 0.2923, 0.0219, 0.1383, 0.2051, -0.206, -0.4646, 0.8569, 0.855, 0.8536, 0.8522, 0.8507, 0.8496, 0.8454, 0.8434, 0.8431, 0.8427, 0.842, 0.8417, 0.8407, 0.8402, 0.8401, 0.8399, 0.8379, 0.8374, 0.8372, 0.8368, 0.8353, 0.8339, 0.8338, 0.8328, 0.8327, 0.8327, 0.8326, 0.8324, 0.8322, 0.8309, 0.7912, 0.8017, 0.796, 0.8041, 0.8284, 0.7728, 0.8021, 0.8172, 0.8272, 0.7821, 0.7978, 0.7757, 0.8127, 0.8031, 0.7668, 0.7912, 0.594, 0.7529, 0.7724, 0.7657, 0.606, 0.7432, 0.5652, 0.5631, 0.5417, 0.6942, 0.5851, 0.6415, 0.5998, 0.6767, 0.6461, 0.0938, 0.4347, 0.6144, 0.4327, 0.578, 0.5904, 0.5736, 0.6396, 0.3782, 0.445, 0.3446, 0.3294, 0.6635, 0.3803, 0.3993, 0.3493, -0.2853, -0.3816, 0.3104, 0.1787, -0.1506, -0.6067, 0.1489, 0.1626, 0.1188, -0.1024, -0.8411, 0.2298, -0.6607, 2.1026, 2.1025, 2.1008, 2.1006, 2.0869, 2.0775, 2.0768, 2.0752, 2.0721, 2.0718, 2.0701, 2.0664, 2.0659, 2.0627, 2.0608, 2.0593, 2.0578, 2.0569, 2.0564, 2.0514, 2.0498, 2.0494, 2.0492, 2.0488, 2.0485, 2.0469, 2.0467, 2.0446, 2.0445, 2.0428, 2.0415, 2.0134, 2.0224, 2.0006, 2.0256, 1.9155, 1.9268, 1.7041, 1.9583, 1.5109, 1.4228, 1.5402, 1.7247, 1.432, 1.3801, 1.3854, 1.1912, 1.6287, 1.1964, 1.1905, 1.7128, 1.5854, -0.4566, 0.9395, 0.7731, 1.2756, 0.1488, 0.5293, -0.2725, -0.52, 0.1464, -0.5371, 0.0934, 0.2087, 0.1131, -1.3462, -0.2672, -0.2285, -0.917]}, \"token.table\": {\"Topic\": [3, 2, 1, 2, 1, 2, 1, 2, 3, 1, 2, 1, 2, 1, 2, 1, 2, 3, 2, 1, 1, 2, 3, 1, 2, 3, 3, 2, 3, 3, 1, 2, 3, 1, 2, 3, 2, 2, 3, 1, 2, 3, 1, 1, 2, 3, 1, 2, 3, 1, 2, 3, 1, 2, 3, 2, 1, 2, 2, 1, 3, 1, 1, 2, 1, 2, 3, 1, 2, 3, 3, 1, 2, 3, 1, 2, 3, 1, 1, 2, 3, 1, 2, 3, 1, 2, 1, 3, 1, 2, 3, 1, 2, 3, 1, 2, 3, 3, 1, 2, 2, 3, 1, 2, 2, 3, 1, 2, 3, 1, 1, 2, 3, 1, 2, 3, 1, 1, 2, 3, 1, 2, 3, 1, 2, 1, 2, 3, 1, 2, 3, 1, 2, 3, 1, 2, 3, 2, 1, 2, 2, 2, 1, 2, 3, 2, 3, 1, 2, 3, 1, 2, 2, 1, 2, 3, 2, 3, 1, 2, 3, 1, 2, 1, 2, 3, 1, 2, 1, 2, 3, 1, 2, 3, 1, 2, 3, 2, 1, 2, 1, 2, 3, 1, 2, 1, 2, 3, 1, 2, 3, 1, 2, 3, 3, 1, 2, 3, 2, 1, 1, 2, 3, 1, 2, 3, 1, 2, 3, 1, 2, 3, 1, 2, 3, 1, 2, 3, 1, 1, 2, 3, 3, 1, 2, 3, 1, 2, 3, 3, 3, 2, 1, 2, 3, 1, 2, 3, 1, 2, 1, 2, 3, 3, 1, 2, 3, 1, 2, 3, 1, 1, 2, 3, 2, 3, 1, 2, 3, 1, 2, 1, 2, 3, 3, 1, 2, 3, 1, 3, 3, 1, 2, 3, 3, 3, 1, 1, 2, 3, 2, 1, 2, 3, 1, 2, 3, 1, 2, 3, 1, 2, 3, 1, 2, 3, 1, 2, 3, 1, 2, 3, 1, 2, 1, 2, 3, 1, 2, 1, 2, 3, 2, 1, 2, 1, 2, 3, 3, 1, 2, 3, 3, 1, 2, 1, 2, 3, 1, 2, 1, 2, 3, 3, 3, 3, 1, 3, 1, 2, 3, 1, 2, 3, 1, 2, 3, 2, 1, 2, 3, 1, 3, 2, 3, 1, 1, 2, 3, 1, 1, 2, 3, 1, 2, 3, 1, 2, 1, 2, 1, 2, 3, 1, 2, 3, 1, 2, 3, 2, 3, 1, 2, 3, 1, 2, 3, 1, 2, 3, 1, 2, 1, 2, 3, 2, 1, 2, 3, 1, 2, 3, 3, 1, 2, 3, 2, 1, 2, 3, 1, 2, 3, 3, 1, 2, 3, 1, 1, 2, 3, 1, 1, 2, 3, 1, 2, 3, 1, 2, 3, 1, 2, 3, 1, 2, 3, 2, 1, 2, 3, 1, 2, 3, 1, 2, 3, 1, 2, 3], \"Freq\": [0.9569696473791031, 0.9887672211121297, 0.038159952783215025, 0.9539988195803756, 0.02636997294387159, 0.9756889989232489, 0.8642656158851848, 0.10573462321999602, 0.027582945187825048, 0.988769735022487, 0.017047754052111844, 0.038777178686330786, 0.9694294671582696, 0.020780225410486998, 0.9766705942928889, 0.3039516548861928, 0.6560107659414234, 0.039360645956485404, 0.9587322658440199, 0.9874419187343715, 0.7770841162312002, 0.21543987222409824, 0.0075028811222322776, 0.824064520141273, 0.16694410537344756, 0.007104004483976491, 0.94999472052166, 0.9950535797673871, 0.9791505546304492, 0.9257743449269079, 0.3724473128828368, 0.4871911820033067, 0.13919748057237336, 0.5734644809152223, 0.02940843491872935, 0.4019152772226344, 0.9867080894393081, 0.07042998064929155, 0.9155897484407901, 0.3235665291100276, 0.19413991746601653, 0.47887846308284077, 0.9894132063966067, 0.007496681343082116, 0.322357297752531, 0.6672046395343084, 0.8744743269972156, 0.12061714855134008, 0.004307755305405003, 0.025567528457447242, 0.025567528457447242, 0.9715660813829952, 0.3185371967704409, 0.11852546856574545, 0.5629959756872909, 0.9601736483639322, 0.049435102115095865, 0.9392669401868214, 0.9879586567963445, 0.013888186935672613, 0.9860612724327555, 0.9932204723347489, 0.9418497298824455, 0.058865608117652846, 0.469686435780142, 0.503235466907295, 0.028974163246177593, 0.33783834403509144, 0.264572197135915, 0.3988934664510719, 0.921173779670063, 0.15982480001656582, 0.7572651238880143, 0.08371775238962971, 0.020784024418269435, 0.9352810988221245, 0.04156804883653887, 0.9646168562510731, 0.9807625711759448, 0.012820425767005815, 0.006410212883502907, 0.04927167936298365, 0.8266692870900589, 0.12591651392762487, 0.993456522527634, 0.00388068954112357, 0.9841979662337875, 0.9502770778488148, 0.860544263936649, 0.12560739256218167, 0.01336248857044486, 0.014529782338577778, 0.9734954166847112, 0.014529782338577778, 0.9722655513058646, 0.015938779529604336, 0.015938779529604336, 0.9872611994554574, 0.05323540240145966, 0.9582372432262739, 0.14352028753414592, 0.8252416533213389, 0.9632521577026028, 0.03283814173986146, 0.9168951535002408, 0.07293484175570097, 0.2297146070288934, 0.2639274208417073, 0.5083046623618066, 0.9944024778844196, 0.012461950805807592, 0.9346463104355693, 0.04984780322323037, 0.9730814346439074, 0.016492905671930635, 0.016492905671930635, 0.9919368206067373, 0.9969908998056888, 0.0020814006258991417, 0.0020814006258991417, 0.02089372593139057, 0.9402176669125757, 0.04178745186278114, 0.9574989280011278, 0.03868682537378294, 0.9577086978309779, 0.021473289189035377, 0.021473289189035377, 0.21964597054451082, 0.7401114224869386, 0.04178048352748847, 0.383482126683515, 0.5295705558962827, 0.08674000484508078, 0.08429666597601479, 0.8008183267721405, 0.11707870274446498, 0.9462285123788116, 0.027859376381170912, 0.975078173340982, 0.9704653855671331, 0.9838880353294538, 0.005976665390334908, 0.8427098200372221, 0.14941663475837272, 0.07807312369269047, 0.9368774843122857, 0.03604520045921559, 0.2883616036737247, 0.6848588087250962, 0.990373282214593, 0.9826364627551302, 0.9844561421314477, 0.03646751582568892, 0.03646751582568892, 0.9481554114679119, 0.9802104793676857, 0.9488238368191656, 0.0377705917142282, 0.9064942011414767, 0.05036078895230426, 0.959325255509954, 0.02997891423468606, 0.21893918543429425, 0.29357754410507636, 0.4826613860710578, 0.9604923303990343, 0.03841969321596137, 0.9738759644412165, 0.016888022504760982, 0.0056293408349203265, 0.2177183128864849, 0.16328873466486368, 0.616868553178374, 0.07030794369747496, 0.3339627325630061, 0.5976175214285373, 0.9491147113339345, 0.7435049557985625, 0.2543002457513924, 0.7496466318097502, 0.2426913556218616, 0.008988568726735615, 0.9829204717574966, 0.011842415322379478, 0.9182665095841811, 0.06852735146150606, 0.020558205438451816, 0.05536972703933512, 0.9089863522290849, 0.036913151359556744, 0.33917260456209236, 0.35287654818076275, 0.30833873142008394, 0.9738247971711705, 0.18910953577012898, 0.7378137191031547, 0.0730650479111862, 0.9674069460145824, 0.9758988712859603, 0.23137707294353083, 0.7459320560567562, 0.024173724038876354, 0.17581083401863984, 0.7963196599667804, 0.03102544129740703, 0.040929753745958856, 0.8902221439746051, 0.071627069055428, 0.28872279396253275, 0.6496262864156986, 0.06286705997571278, 0.018365987810345503, 0.814225459591984, 0.16529389029310954, 0.059881887976878205, 0.059881887976878205, 0.8982283196531731, 0.9905510124891242, 0.37327137494983403, 0.5925864629553785, 0.0334056094313081, 0.9816948824517182, 0.21264253694900995, 0.28610086789503153, 0.502609632788569, 0.7487007911231637, 0.20479168698368888, 0.046243284157607166, 0.9542415571086534, 0.95316958656258, 0.9571304245647099, 0.05843077949620559, 0.11686155899241119, 0.8180309129468784, 0.7317406855381287, 0.2638347890087675, 0.0043729523040127215, 0.01981170939464531, 0.9707737603376202, 0.4017314336078551, 0.5739020480112217, 0.02550675768938763, 0.9808148390928543, 0.17179786890398666, 0.7968496898099806, 0.03289746425821021, 0.6714981575516558, 0.1790661753471082, 0.1484364348272081, 0.9958973531674591, 0.5753886315306956, 0.029507109309266446, 0.398345975675097, 0.9781351888298043, 0.02717042191193901, 0.9594422547552411, 0.01890526610355155, 0.01890526610355155, 0.02279346904665712, 0.9801191690062562, 0.9918565243762902, 0.0031190456741392774, 0.006238091348278555, 0.9167648132166956, 0.3200964850383961, 0.5847095793368036, 0.09674027103382637, 0.06514975357964432, 0.9772463036946649, 0.9854843689483745, 0.18346794885436543, 0.7644497868931893, 0.050963319126212624, 0.9804265516462899, 0.9156022244609746, 0.9844602151080784, 0.1846231251238971, 0.7222756043698407, 0.09231156256194856, 0.9491353056770004, 0.9934818063156571, 0.0142995966096819, 0.9866721660680511, 0.9670015283377135, 0.011114960095835787, 0.011114960095835787, 0.784580196389506, 0.1961450490973765, 0.020354674906331523, 0.9960292692256273, 0.002508889846915938, 0.002508889846915938, 0.07532544759311223, 0.8850740092190686, 0.04707840474569514, 0.4618328775651955, 0.4616670488838435, 0.07652993644392737, 0.07361034845327423, 0.036805174226637115, 0.9201293556659278, 0.990002007753146, 0.026756811020355296, 0.23268651828465317, 0.7501535514848521, 0.017364665543630833, 0.0649582194571654, 0.925654627264607, 0.18743675970488907, 0.7540069651764856, 0.05750900581854551, 0.9882077699084603, 0.0393949563203445, 0.9848739080086126, 0.6410744439630506, 0.286824042775839, 0.07196803022146508, 0.9594689177886551, 0.5921197975386282, 0.315797225353935, 0.09223780344496123, 0.9366228433483521, 0.9299720382522841, 0.07051920669211634, 0.5675382004563815, 0.3618395464632193, 0.0706028383342867, 0.9723452520841475, 0.020257192751753073, 0.3248223384750717, 0.5958809795473728, 0.08064554610415572, 0.9928759594314006, 0.9893539487553316, 0.9516948895006353, 0.978917117713881, 0.9790410314279191, 0.03337643632336437, 0.901163780730838, 0.05562739387227395, 0.03052225436503433, 0.9339809835700505, 0.0366267052380412, 0.5275215449290139, 0.3372000463663893, 0.1344662761583761, 0.9686343557971683, 0.6143831200723302, 0.30481023011340413, 0.08096521737387297, 0.06814117116222972, 0.9539763962712161, 0.10460047070368578, 0.8368037656294862, 0.9949598270795369, 0.3542713236954651, 0.38566245364316454, 0.2623401574200596, 0.980128760163993, 0.3394356293015009, 0.6135951760450209, 0.046418547596786444, 0.34755836796392237, 0.6141784858540545, 0.03808858827001889, 0.9777960059771973, 0.02384868307261457, 0.021624793772094735, 0.9731157197442631, 0.18553031760776373, 0.7698123626113181, 0.044305747488421185, 0.43506112179617895, 0.47393892416945455, 0.09256619612684659, 0.0170013211877839, 0.9350726653281145, 0.0680052847511356, 0.9122367101046192, 0.08169283971086141, 0.04975588665136423, 0.2985353199081854, 0.6717044697934171, 0.8941270443947239, 0.07792850386926493, 0.024609001221873136, 0.024845835543623577, 0.9270066916620934, 0.047978165187686904, 0.08698606143352686, 0.9085210860835027, 0.30486689807719364, 0.6253679960557819, 0.07035389955627545, 0.9822205630132349, 0.7392988400733025, 0.2289887172630926, 0.031346483337639126, 0.5799300599887345, 0.2147889111069387, 0.20476542858861488, 0.9210512412671038, 0.5641193139481084, 0.36701738497828745, 0.07023172181683278, 0.9683552304337504, 0.3740439429759226, 0.19117801529880488, 0.43222855632773277, 0.2377609502108184, 0.21614631837347126, 0.5457694538930149, 0.9784894680506487, 0.7456401067267305, 0.21716025861438343, 0.03732441944934715, 0.9919661968893893, 0.03741889602983752, 0.7774815063977352, 0.18709448014918761, 0.9763524523066761, 0.3373723479701635, 0.6483657880743472, 0.015271999290830448, 0.6785898998857065, 0.18106227027112817, 0.14012645264461224, 0.871035761278398, 0.08825472471102712, 0.038371619439577, 0.9556945661829163, 0.01830832502266123, 0.025631655031725722, 0.8388930036501018, 0.11705483771861884, 0.044871021125470555, 0.9904686608284141, 0.06017453863102287, 0.9402271661097323, 0.007521817328877859, 0.5752436827625489, 0.37888646412725574, 0.045632311372990654, 0.2054486082176169, 0.7614256475174238, 0.03310546293554016, 0.37255942458968966, 0.49544551751717897, 0.13263895744554396], \"Term\": [\"abe\", \"abortion\", \"actual\", \"actual\", \"alaska\", \"alaska\", \"ally\", \"ally\", \"ally\", \"amid\", \"amid\", \"appearance\", \"appearance\", \"asset\", \"asset\", \"back\", \"back\", \"back\", \"bannon\", \"beijing\", \"biden\", \"biden\", \"biden\", \"blame\", \"blame\", \"blame\", \"bleed\", \"brittney\", \"butina\", \"byrne\", \"call\", \"call\", \"call\", \"can\", \"can\", \"can\", \"carlson\", \"casualty\", \"casualty\", \"change\", \"change\", \"change\", \"chemical\", \"child\", \"child\", \"child\", \"china\", \"china\", \"china\", \"church\", \"church\", \"church\", \"civilian\", \"civilian\", \"civilian\", \"clinton\", \"compromise\", \"compromise\", \"constitution\", \"content\", \"content\", \"cooperation\", \"cost\", \"cost\", \"country\", \"country\", \"country\", \"crime\", \"crime\", \"crime\", \"crown\", \"democracy\", \"democracy\", \"democracy\", \"donald\", \"donald\", \"donald\", \"early\", \"economic\", \"economic\", \"economic\", \"election\", \"election\", \"election\", \"energy\", \"energy\", \"escalation\", \"esque\", \"europe\", \"europe\", \"europe\", \"ever\", \"ever\", \"ever\", \"export\", \"export\", \"export\", \"famine\", \"fast\", \"fast\", \"film\", \"film\", \"finland\", \"finland\", \"flynn\", \"flynn\", \"follow\", \"follow\", \"follow\", \"fossil\", \"fox\", \"fox\", \"fox\", \"french\", \"french\", \"french\", \"fuel\", \"gas\", \"gas\", \"gas\", \"genius\", \"genius\", \"genius\", \"german\", \"german\", \"germany\", \"germany\", \"germany\", \"get\", \"get\", \"get\", \"give\", \"give\", \"give\", \"gop\", \"gop\", \"gop\", \"gqp\", \"greatest\", \"greatest\", \"griner\", \"guess\", \"guy\", \"guy\", \"guy\", \"hawley\", \"hawley\", \"hero\", \"hero\", \"hero\", \"hike\", \"hillary\", \"horrible\", \"hospital\", \"hospital\", \"hospital\", \"hudson\", \"igor\", \"imagine\", \"imagine\", \"imagine\", \"impose\", \"impose\", \"include\", \"include\", \"include\", \"increase\", \"increase\", \"inflation\", \"inflation\", \"inflation\", \"information\", \"information\", \"information\", \"innocent\", \"innocent\", \"innocent\", \"interference\", \"invade\", \"invade\", \"invasion\", \"invasion\", \"invasion\", \"iran\", \"iran\", \"joe\", \"joe\", \"joe\", \"johnson\", \"johnson\", \"johnson\", \"kill\", \"kill\", \"kill\", \"kirill\", \"know\", \"know\", \"know\", \"kompromat\", \"lavrov\", \"let\", \"let\", \"let\", \"lie\", \"lie\", \"lie\", \"life\", \"life\", \"life\", \"like\", \"like\", \"like\", \"love\", \"love\", \"love\", \"lover\", \"lover\", \"lover\", \"mac\", \"make\", \"make\", \"make\", \"meadow\", \"medium\", \"medium\", \"medium\", \"military\", \"military\", \"military\", \"mohammed\", \"mom\", \"murdoch\", \"nationalist\", \"nationalist\", \"nationalist\", \"nato\", \"nato\", \"nato\", \"navalny\", \"navalny\", \"need\", \"need\", \"need\", \"neetug\", \"never\", \"never\", \"never\", \"new\", \"new\", \"new\", \"nord\", \"not\", \"not\", \"not\", \"nra\", \"nra\", \"nuclear\", \"nuclear\", \"nuclear\", \"often\", \"often\", \"oil\", \"oil\", \"oil\", \"oliver\", \"one\", \"one\", \"one\", \"orcs\", \"orcs\", \"orthodox\", \"others\", \"others\", \"others\", \"overstock\", \"patrick\", \"pen\", \"people\", \"people\", \"people\", \"perspective\", \"pipeline\", \"potentially\", \"potentially\", \"prepare\", \"prepare\", \"prepare\", \"president\", \"president\", \"president\", \"price\", \"price\", \"price\", \"puppet\", \"puppet\", \"puppet\", \"putin\", \"putin\", \"putin\", \"putinwarcriminal\", \"putinwarcriminal\", \"putinwarcriminal\", \"relation\", \"relation\", \"republican\", \"republican\", \"republican\", \"rid\", \"rid\", \"right\", \"right\", \"right\", \"rnc\", \"road\", \"road\", \"russia\", \"russia\", \"russia\", \"russiaisaterroriststate\", \"russian\", \"russian\", \"russian\", \"salman\", \"sanction\", \"sanction\", \"say\", \"say\", \"say\", \"scholz\", \"scholz\", \"see\", \"see\", \"see\", \"sensitive\", \"setting\", \"seversk\", \"shut\", \"slan\", \"someone\", \"someone\", \"someone\", \"something\", \"something\", \"something\", \"state\", \"state\", \"state\", \"steve\", \"stop\", \"stop\", \"stop\", \"stoprussianow\", \"stoprussianow\", \"student\", \"student\", \"supply\", \"support\", \"support\", \"support\", \"sweden\", \"take\", \"take\", \"take\", \"tell\", \"tell\", \"tell\", \"tension\", \"tension\", \"tfg\", \"tfg\", \"think\", \"think\", \"think\", \"time\", \"time\", \"time\", \"tory\", \"tory\", \"tory\", \"traitor\", \"traitor\", \"trial\", \"trial\", \"trial\", \"troop\", \"troop\", \"troop\", \"trump\", \"trump\", \"trump\", \"truth\", \"truth\", \"try\", \"try\", \"try\", \"tucker\", \"ukraine\", \"ukraine\", \"ukraine\", \"ukrainian\", \"ukrainian\", \"ukrainian\", \"unavailable\", \"use\", \"use\", \"use\", \"vaccine\", \"video\", \"video\", \"video\", \"view\", \"view\", \"view\", \"vinnytsia\", \"vladimir\", \"vladimir\", \"vladimir\", \"volodymyr\", \"vote\", \"vote\", \"vote\", \"wag\", \"want\", \"want\", \"want\", \"war\", \"war\", \"war\", \"warn\", \"warn\", \"warn\", \"weapon\", \"weapon\", \"weapon\", \"west\", \"west\", \"west\", \"wish\", \"woman\", \"woman\", \"woman\", \"world\", \"world\", \"world\", \"would\", \"would\", \"would\", \"year\", \"year\", \"year\"]}, \"R\": 30, \"lambda.step\": 0.01, \"plot.opts\": {\"xlab\": \"PC1\", \"ylab\": \"PC2\"}, \"topic.order\": [1, 3, 2]};\n",
       "\n",
       "function LDAvis_load_lib(url, callback){\n",
       "  var s = document.createElement('script');\n",
       "  s.src = url;\n",
       "  s.async = true;\n",
       "  s.onreadystatechange = s.onload = callback;\n",
       "  s.onerror = function(){console.warn(\"failed to load library \" + url);};\n",
       "  document.getElementsByTagName(\"head\")[0].appendChild(s);\n",
       "}\n",
       "\n",
       "if(typeof(LDAvis) !== \"undefined\"){\n",
       "   // already loaded: just create the visualization\n",
       "   !function(LDAvis){\n",
       "       new LDAvis(\"#\" + \"ldavis_el23481405816020960641827624841\", ldavis_el23481405816020960641827624841_data);\n",
       "   }(LDAvis);\n",
       "}else if(typeof define === \"function\" && define.amd){\n",
       "   // require.js is available: use it to load d3/LDAvis\n",
       "   require.config({paths: {d3: \"https://d3js.org/d3.v5\"}});\n",
       "   require([\"d3\"], function(d3){\n",
       "      window.d3 = d3;\n",
       "      LDAvis_load_lib(\"https://cdn.jsdelivr.net/gh/bmabey/pyLDAvis@3.3.1/pyLDAvis/js/ldavis.v3.0.0.js\", function(){\n",
       "        new LDAvis(\"#\" + \"ldavis_el23481405816020960641827624841\", ldavis_el23481405816020960641827624841_data);\n",
       "      });\n",
       "    });\n",
       "}else{\n",
       "    // require.js not available: dynamically load d3 & LDAvis\n",
       "    LDAvis_load_lib(\"https://d3js.org/d3.v5.js\", function(){\n",
       "         LDAvis_load_lib(\"https://cdn.jsdelivr.net/gh/bmabey/pyLDAvis@3.3.1/pyLDAvis/js/ldavis.v3.0.0.js\", function(){\n",
       "                 new LDAvis(\"#\" + \"ldavis_el23481405816020960641827624841\", ldavis_el23481405816020960641827624841_data);\n",
       "            })\n",
       "         });\n",
       "}\n",
       "</script>"
      ],
      "text/plain": [
       "PreparedData(topic_coordinates=              x         y  topics  cluster       Freq\n",
       "topic                                                \n",
       "0      0.092244  0.066862       1        1  45.883760\n",
       "2      0.034388 -0.090887       2        1  42.027642\n",
       "1     -0.126632  0.024024       3        1  12.088598, topic_info=         Term          Freq         Total Category  logprob  loglift\n",
       "167     trump   1167.000000   1167.000000  Default  30.0000  30.0000\n",
       "10      putin  12060.000000  12060.000000  Default  29.0000  29.0000\n",
       "39        war   1905.000000   1905.000000  Default  28.0000  28.0000\n",
       "16    ukraine   3764.000000   3764.000000  Default  27.0000  27.0000\n",
       "1375      gas    480.000000    480.000000  Default  26.0000  26.0000\n",
       "...       ...           ...           ...      ...      ...      ...\n",
       "529     state     65.433166    483.392579   Topic3  -5.9646   0.1131\n",
       "16    ukraine    118.414042   3764.377609   Topic3  -5.3715  -1.3462\n",
       "396    people     74.181849    801.633056   Topic3  -5.8391  -0.2672\n",
       "275       one     67.613848    702.913061   Topic3  -5.9319  -0.2285\n",
       "167     trump     56.398916   1167.197615   Topic3  -6.1132  -0.9170\n",
       "\n",
       "[260 rows x 6 columns], token_table=       Topic      Freq      Term\n",
       "term                            \n",
       "14415      3  0.956970       abe\n",
       "3923       2  0.988767  abortion\n",
       "4281       1  0.038160    actual\n",
       "4281       2  0.953999    actual\n",
       "6490       1  0.026370    alaska\n",
       "...      ...       ...       ...\n",
       "145        2  0.761426     would\n",
       "145        3  0.033105     would\n",
       "61         1  0.372559      year\n",
       "61         2  0.495446      year\n",
       "61         3  0.132639      year\n",
       "\n",
       "[450 rows x 3 columns], R=30, lambda_step=0.01, plot_opts={'xlab': 'PC1', 'ylab': 'PC2'}, topic_order=[1, 3, 2])"
      ]
     },
     "execution_count": 30,
     "metadata": {},
     "output_type": "execute_result"
    }
   ],
   "source": [
    "pyLDAvis.enable_notebook()\n",
    "vis = gensimvis.prepare(lda_model, bow_corpus, dic)\n",
    "vis"
   ]
  },
  {
   "cell_type": "code",
   "execution_count": null,
   "metadata": {},
   "outputs": [],
   "source": []
  }
 ],
 "metadata": {
  "kernelspec": {
   "display_name": "Python 3.8.13 64-bit ('3.8.13')",
   "language": "python",
   "name": "python3"
  },
  "language_info": {
   "codemirror_mode": {
    "name": "ipython",
    "version": 3
   },
   "file_extension": ".py",
   "mimetype": "text/x-python",
   "name": "python",
   "nbconvert_exporter": "python",
   "pygments_lexer": "ipython3",
   "version": "3.8.13"
  },
  "orig_nbformat": 4,
  "vscode": {
   "interpreter": {
    "hash": "110cc1dee26208153f2972f08a2ad52b6a56238dc66d48e87fb757ef2996db56"
   }
  }
 },
 "nbformat": 4,
 "nbformat_minor": 2
}
